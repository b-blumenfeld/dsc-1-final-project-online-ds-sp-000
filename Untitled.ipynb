{
 "cells": [
  {
   "cell_type": "code",
   "execution_count": 2,
   "metadata": {},
   "outputs": [],
   "source": [
    "import pandas as pd\n",
    "import numpy as np\n",
    "import seaborn as sns\n",
    "import matplotlib.pyplot as plt\n",
    "%matplotlib inline"
   ]
  },
  {
   "cell_type": "code",
   "execution_count": 3,
   "metadata": {},
   "outputs": [],
   "source": [
    "kings_df = pd.read_csv('kc_house_data.csv')"
   ]
  },
  {
   "cell_type": "code",
   "execution_count": 18,
   "metadata": {},
   "outputs": [],
   "source": [
    "while x in kings_df['sqft_basement']:\n",
    "    if x == '?':\n",
    "        x = '0'"
   ]
  },
  {
   "cell_type": "code",
   "execution_count": 19,
   "metadata": {},
   "outputs": [
    {
     "data": {
      "text/plain": [
       "0.0       12826\n",
       "?           454\n",
       "600.0       217\n",
       "500.0       209\n",
       "700.0       208\n",
       "800.0       201\n",
       "400.0       184\n",
       "1000.0      148\n",
       "300.0       142\n",
       "900.0       142\n",
       "200.0       105\n",
       "750.0       104\n",
       "450.0       103\n",
       "480.0       103\n",
       "530.0       103\n",
       "720.0        98\n",
       "620.0        90\n",
       "580.0        84\n",
       "840.0        83\n",
       "420.0        81\n",
       "860.0        79\n",
       "1100.0       78\n",
       "670.0        78\n",
       "550.0        76\n",
       "780.0        76\n",
       "650.0        75\n",
       "240.0        74\n",
       "680.0        73\n",
       "380.0        73\n",
       "360.0        72\n",
       "          ...  \n",
       "1281.0        1\n",
       "1913.0        1\n",
       "65.0          1\n",
       "2600.0        1\n",
       "248.0         1\n",
       "2240.0        1\n",
       "704.0         1\n",
       "1245.0        1\n",
       "172.0         1\n",
       "1852.0        1\n",
       "2180.0        1\n",
       "2400.0        1\n",
       "506.0         1\n",
       "768.0         1\n",
       "2810.0        1\n",
       "1960.0        1\n",
       "1548.0        1\n",
       "417.0         1\n",
       "588.0         1\n",
       "243.0         1\n",
       "1284.0        1\n",
       "1481.0        1\n",
       "2720.0        1\n",
       "4130.0        1\n",
       "1798.0        1\n",
       "518.0         1\n",
       "2490.0        1\n",
       "2250.0        1\n",
       "2850.0        1\n",
       "556.0         1\n",
       "Name: sqft_basement, Length: 304, dtype: int64"
      ]
     },
     "execution_count": 19,
     "metadata": {},
     "output_type": "execute_result"
    }
   ],
   "source": [
    " kings_df.sqft_basement.value_counts()"
   ]
  },
  {
   "cell_type": "code",
   "execution_count": null,
   "metadata": {},
   "outputs": [],
   "source": []
  }
 ],
 "metadata": {
  "kernelspec": {
   "display_name": "learn-env",
   "language": "python",
   "name": "learn-env"
  },
  "language_info": {
   "codemirror_mode": {
    "name": "ipython",
    "version": 3
   },
   "file_extension": ".py",
   "mimetype": "text/x-python",
   "name": "python",
   "nbconvert_exporter": "python",
   "pygments_lexer": "ipython3",
   "version": "3.7.1"
  }
 },
 "nbformat": 4,
 "nbformat_minor": 2
}
